{
 "cells": [
  {
   "cell_type": "code",
   "execution_count": 1,
   "id": "bee5988a",
   "metadata": {},
   "outputs": [],
   "source": [
    "import utils"
   ]
  },
  {
   "cell_type": "code",
   "execution_count": 2,
   "id": "613f218e",
   "metadata": {},
   "outputs": [
    {
     "data": {
      "text/plain": [
       "'/Users/murtazajalal/opt/anaconda3/bin/python'"
      ]
     },
     "execution_count": 2,
     "metadata": {},
     "output_type": "execute_result"
    }
   ],
   "source": [
    "import sys\n",
    "sys.executable"
   ]
  },
  {
   "cell_type": "code",
   "execution_count": 3,
   "id": "ce0c5257",
   "metadata": {},
   "outputs": [],
   "source": [
    "#-- !/usr/local/bin/python3 -m pip install psycopg2-binary"
   ]
  },
  {
   "cell_type": "code",
   "execution_count": 4,
   "id": "724e301d",
   "metadata": {},
   "outputs": [],
   "source": [
    "orders_query = \"\"\"\n",
    "Select \n",
    "    id as order_id\n",
    "   ,geo_region_id\n",
    "   ,vehicle_id\n",
    "   ,pickup_time\n",
    "FROM \n",
    "    orders as o\n",
    "LIMIT 10\n",
    "\"\"\""
   ]
  },
  {
   "cell_type": "code",
   "execution_count": 5,
   "id": "0c2f06cc",
   "metadata": {},
   "outputs": [
    {
     "name": "stdout",
     "output_type": "stream",
     "text": [
      "Query run time in seconds : 0.6891169548034668\n"
     ]
    },
    {
     "name": "stderr",
     "output_type": "stream",
     "text": [
      "/Users/murtazajalal/opt/anaconda3/lib/python3.9/site-packages/pandas/io/sql.py:761: UserWarning: pandas only support SQLAlchemy connectable(engine/connection) ordatabase string URI or sqlite3 DBAPI2 connectionother DBAPI2 objects are not tested, please consider using SQLAlchemy\n",
      "  warnings.warn(\n"
     ]
    },
    {
     "data": {
      "text/html": [
       "<div>\n",
       "<style scoped>\n",
       "    .dataframe tbody tr th:only-of-type {\n",
       "        vertical-align: middle;\n",
       "    }\n",
       "\n",
       "    .dataframe tbody tr th {\n",
       "        vertical-align: top;\n",
       "    }\n",
       "\n",
       "    .dataframe thead th {\n",
       "        text-align: right;\n",
       "    }\n",
       "</style>\n",
       "<table border=\"1\" class=\"dataframe\">\n",
       "  <thead>\n",
       "    <tr style=\"text-align: right;\">\n",
       "      <th></th>\n",
       "      <th>order_id</th>\n",
       "      <th>geo_region_id</th>\n",
       "      <th>vehicle_id</th>\n",
       "      <th>pickup_time</th>\n",
       "    </tr>\n",
       "  </thead>\n",
       "  <tbody>\n",
       "    <tr>\n",
       "      <th>0</th>\n",
       "      <td>14519622</td>\n",
       "      <td>2</td>\n",
       "      <td>97</td>\n",
       "      <td>1603792191</td>\n",
       "    </tr>\n",
       "    <tr>\n",
       "      <th>1</th>\n",
       "      <td>15057354</td>\n",
       "      <td>1</td>\n",
       "      <td>96</td>\n",
       "      <td>1605101311</td>\n",
       "    </tr>\n",
       "    <tr>\n",
       "      <th>2</th>\n",
       "      <td>17752307</td>\n",
       "      <td>1</td>\n",
       "      <td>97</td>\n",
       "      <td>1611900003</td>\n",
       "    </tr>\n",
       "    <tr>\n",
       "      <th>3</th>\n",
       "      <td>16849235</td>\n",
       "      <td>3</td>\n",
       "      <td>91</td>\n",
       "      <td>1609748847</td>\n",
       "    </tr>\n",
       "    <tr>\n",
       "      <th>4</th>\n",
       "      <td>15058294</td>\n",
       "      <td>5</td>\n",
       "      <td>97</td>\n",
       "      <td>1605102285</td>\n",
       "    </tr>\n",
       "    <tr>\n",
       "      <th>5</th>\n",
       "      <td>14319756</td>\n",
       "      <td>3</td>\n",
       "      <td>91</td>\n",
       "      <td>1603191242</td>\n",
       "    </tr>\n",
       "    <tr>\n",
       "      <th>6</th>\n",
       "      <td>16634646</td>\n",
       "      <td>2</td>\n",
       "      <td>97</td>\n",
       "      <td>1609221222</td>\n",
       "    </tr>\n",
       "    <tr>\n",
       "      <th>7</th>\n",
       "      <td>14781397</td>\n",
       "      <td>3</td>\n",
       "      <td>1</td>\n",
       "      <td>1604480103</td>\n",
       "    </tr>\n",
       "    <tr>\n",
       "      <th>8</th>\n",
       "      <td>14236688</td>\n",
       "      <td>5</td>\n",
       "      <td>97</td>\n",
       "      <td>1602925420</td>\n",
       "    </tr>\n",
       "    <tr>\n",
       "      <th>9</th>\n",
       "      <td>14316820</td>\n",
       "      <td>1</td>\n",
       "      <td>8</td>\n",
       "      <td>1603188517</td>\n",
       "    </tr>\n",
       "  </tbody>\n",
       "</table>\n",
       "</div>"
      ],
      "text/plain": [
       "   order_id  geo_region_id  vehicle_id  pickup_time\n",
       "0  14519622              2          97   1603792191\n",
       "1  15057354              1          96   1605101311\n",
       "2  17752307              1          97   1611900003\n",
       "3  16849235              3          91   1609748847\n",
       "4  15058294              5          97   1605102285\n",
       "5  14319756              3          91   1603191242\n",
       "6  16634646              2          97   1609221222\n",
       "7  14781397              3           1   1604480103\n",
       "8  14236688              5          97   1602925420\n",
       "9  14316820              1           8   1603188517"
      ]
     },
     "execution_count": 5,
     "metadata": {},
     "output_type": "execute_result"
    }
   ],
   "source": [
    "utils.fetch_data(orders_query, 'oms_prod_snapshot')"
   ]
  },
  {
   "cell_type": "code",
   "execution_count": 6,
   "id": "97c1deed",
   "metadata": {},
   "outputs": [],
   "source": [
    "tickets_query = \"\"\"\n",
    "        SELECT Day,\n",
    "                count(DISTINCT customer_crt_id) FILTER (WHERE caller_type = 1) as Partner_Calls,\n",
    "                count(DISTINCT customer_crt_id) FILTER (WHERE caller_type = 2) as Customer_Calls\n",
    "        FROM\n",
    "        (\n",
    "        SELECT \n",
    "            DATE(response_ts + INTERVAL '5 hours 30 minutes') as Day,\n",
    "            customer_crt_id,\n",
    "            customer_id,\n",
    "            driver_id,\n",
    "            caller_type\n",
    "        FROM \n",
    "            caller_responses\n",
    "        WHERE \n",
    "            response_ts >= CURRENT_DATE::TIMESTAMP - INTERVAL '5 Days 5 hours 30 minutes'\n",
    "            AND\n",
    "            response_ts < CURRENT_DATE::TIMESTAMP - INTERVAL '5 hours 30 minutes'\n",
    "        ) as calls\n",
    "        GROUP BY 1\n",
    "        \"\"\""
   ]
  },
  {
   "cell_type": "code",
   "execution_count": null,
   "id": "4f8c3dca",
   "metadata": {},
   "outputs": [
    {
     "name": "stderr",
     "output_type": "stream",
     "text": [
      "/Users/murtazajalal/opt/anaconda3/lib/python3.9/site-packages/pandas/io/sql.py:761: UserWarning: pandas only support SQLAlchemy connectable(engine/connection) ordatabase string URI or sqlite3 DBAPI2 connectionother DBAPI2 objects are not tested, please consider using SQLAlchemy\n",
      "  warnings.warn(\n"
     ]
    }
   ],
   "source": [
    "tickets_df = utils.fetch_data(tickets_query, 'oms_prod_snapshot')\n",
    "print(f'Dimension of the given table is {tickets_df.shape}')\n",
    "tickets_df.head()"
   ]
  },
  {
   "cell_type": "code",
   "execution_count": null,
   "id": "e90788b6",
   "metadata": {},
   "outputs": [],
   "source": [
    "import os, time"
   ]
  },
  {
   "cell_type": "code",
   "execution_count": null,
   "id": "4bceedc0",
   "metadata": {},
   "outputs": [],
   "source": [
    "import yaml"
   ]
  }
 ],
 "metadata": {
  "kernelspec": {
   "display_name": "Python 3 (ipykernel)",
   "language": "python",
   "name": "python3"
  },
  "language_info": {
   "codemirror_mode": {
    "name": "ipython",
    "version": 3
   },
   "file_extension": ".py",
   "mimetype": "text/x-python",
   "name": "python",
   "nbconvert_exporter": "python",
   "pygments_lexer": "ipython3",
   "version": "3.9.12"
  }
 },
 "nbformat": 4,
 "nbformat_minor": 5
}
